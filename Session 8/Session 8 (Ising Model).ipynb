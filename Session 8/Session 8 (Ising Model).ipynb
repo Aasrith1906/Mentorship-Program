{
 "cells": [
  {
   "cell_type": "code",
   "execution_count": 15,
   "metadata": {},
   "outputs": [],
   "source": [
    "import numpy as np \n",
    "import matplotlib.pyplot as plt\n",
    "import random\n",
    "\n",
    "\n",
    "def GenerateInitialState(N):\n",
    "    \n",
    "    state = np.zeros((N,N))\n",
    "    \n",
    "    for i in range(N):\n",
    "        \n",
    "        for j in range(N):\n",
    "            \n",
    "            s = random.randint(0,1)\n",
    "            \n",
    "            if s == 0:\n",
    "                \n",
    "                state[i,j] = -1\n",
    "            \n",
    "            else:\n",
    "                \n",
    "                state[i,j] = s\n",
    "    \n",
    "    return state\n",
    "\n",
    "\n",
    "def move(state,N,beta):\n",
    "    \n",
    "    a = random.randint(0,N)\n",
    "    b = random.randint(0,N)\n",
    "    \n",
    "    s = state[a,b]\n",
    "    \n",
    "    H = 2*s*(state[(a+1)%N , b] + state[a,(b+1)%N] + state[(a-1)%N , b] , state[a , (b-1)%N])\n",
    "    \n",
    "    if H < 0:\n",
    "        \n",
    "        s = -1*s\n",
    "        \n",
    "        state[a,b] = s\n",
    "    \n",
    "    else:\n",
    "        \n",
    "        p = np.exp(-H*beta)\n",
    "        \n",
    "        if np.random.rand() < p:\n",
    "            \n",
    "            s = -1*s\n",
    "            \n",
    "            state[a,b] = s\n",
    "    \n",
    "    return state"
   ]
  },
  {
   "cell_type": "code",
   "execution_count": null,
   "metadata": {},
   "outputs": [],
   "source": [
    "\n"
   ]
  }
 ],
 "metadata": {
  "kernelspec": {
   "display_name": "Python 3",
   "language": "python",
   "name": "python3"
  },
  "language_info": {
   "codemirror_mode": {
    "name": "ipython",
    "version": 3
   },
   "file_extension": ".py",
   "mimetype": "text/x-python",
   "name": "python",
   "nbconvert_exporter": "python",
   "pygments_lexer": "ipython3",
   "version": "3.7.3"
  }
 },
 "nbformat": 4,
 "nbformat_minor": 4
}
